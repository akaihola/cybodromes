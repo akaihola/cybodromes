{
 "cells": [
  {
   "cell_type": "markdown",
   "metadata": {},
   "source": [
    "# The ASDF Palindrome Challenge\n",
    "\n",
    "My colleague Jimmie nerd-sniped me with the question _\"what's the longest Finnish palindrome that can be made on one row of a keyboard?\"_\n",
    "\n",
    "Let's explore this question a bit."
   ]
  },
  {
   "cell_type": "markdown",
   "metadata": {},
   "source": [
    "On the top and bottom rows of a QWERTY keyboard, the letters `Q`, `W`, `Z`, `X`, `C` and `B` are really challenging. The middle row contains fewest letters foreign to Finnish. The letters are `A`, `S`, `D`, `F`, `G`, `H`, `J`, `K`, `L`, `Ö` and `Ä` in the Finnish keyboard layout."
   ]
  },
  {
   "cell_type": "markdown",
   "metadata": {},
   "source": [
    "Long palindromes are easier to find than short ones. It's easiest to get started in the middle, but it becomes difficult to find a terminating pair of words for the ends.\n",
    "\n",
    "So let's start with a long palindrome which uses a subset of the allowed letters. That's a trivial task: just find a short word which can form a valid sentence by itself: _\"Aja!\"_ (\"Drive!\"). Then just repeat that:\n",
    "\n",
    ">**Aja! Aja! Aja! Aja! Aja! Aja! Aja! Aja! Aja! Aja! Aja! Aja! Aja! Aja! Aja! Aja! Aja! Aja! Aja! Aja!**\n",
    "\n",
    "We can also spice it with _\"ajaja\"_ (\"driver\") and _\"ala!\"_ (begin!):\n",
    "\n",
    ">**Ala! Ala, ajaja, aja! Aja! Aja, ajaja, ala! Aja! Ala, ajaja, aja! Aja! Aja, ajaja, ala! Ala!**\n",
    "\n",
    "You get the idea. Similarly, the shortest palindrome with a subset of the chosen letters is probably:\n",
    "\n",
    ">**Aja!**"
   ]
  },
  {
   "cell_type": "markdown",
   "metadata": {},
   "source": [
    "---\n",
    "\n",
    "## Help from computers\n",
    "\n",
    "At this point, let's create a palindrome verifier and use it for palindromes we come up with:"
   ]
  },
  {
   "cell_type": "code",
   "execution_count": 1,
   "metadata": {},
   "outputs": [],
   "source": [
    "from IPython.core.magic import register_line_cell_magic\n",
    "from IPython.core.display import HTML\n",
    "import re\n",
    "\n",
    "ALPHABET = 'asdfghjklöä'\n",
    "\n",
    "@register_line_cell_magic\n",
    "def check(line, cell=None):\n",
    "    if cell:\n",
    "        # e.g. %% check\n",
    "        #      Onko tämä palindromi?\n",
    "        #      # Is this a palindrome?\n",
    "        palindrome = '\\n'.join(l for l in cell.split('\\n')\n",
    "                               if not l.startswith('#')).strip()\n",
    "    else:\n",
    "        # e.g. \"%check  Onko tämä palindromi?  # Is this a palindrome?\"\n",
    "        palindrome = line.split('#')[0]\n",
    "    # get only letters, in lower case, e.g. \"onkotämäpalindromi\"\n",
    "    letters = [c for c in palindrome.lower() if c.isalpha()]\n",
    "    if letters == list(reversed(letters)):\n",
    "        # it is a palindrome\n",
    "        output_lines = [f'<blockquote style=\"white-space: pre\"><strong>{palindrome}</strong></blockquote>']\n",
    "    else:\n",
    "        # it's not a palindrome\n",
    "        output_lines = [f'<p style=\"color: var(--jp-error-color0)\">Not a palindrome: {palindrome}</p>']\n",
    "    # find ASDF letters found in the palindrome, e.g. \"ADKLÄ\"\n",
    "    contains = ''.join(c for c in ALPHABET if c in letters).upper()\n",
    "    output_lines.extend(['<ul>', f'<li>Contains: {contains}</li>', '</ul>'])\n",
    "    # find ASDF letters missing from the palindrome, e.g. \"SFGHJÖ\"\n",
    "    lacks = ''.join(c for c in ALPHABET if c not in letters).upper()\n",
    "    if lacks:\n",
    "        output_lines.insert(-1, f'<li>Lacks: {lacks}</li>')\n",
    "    # find non-ASD letters in the palindrome, e.g. \"IMNOPRT\"\n",
    "    extra = ''.join(sorted(set(letters).difference(ALPHABET))).upper()\n",
    "    if extra:\n",
    "        output_lines.insert(-1, f'<li>Has extra letters: {extra}</li>')\n",
    "    return HTML(''.join(output_lines))    "
   ]
  },
  {
   "cell_type": "markdown",
   "metadata": {},
   "source": [
    "Let's do a few tests to see that this works as expected:"
   ]
  },
  {
   "cell_type": "code",
   "execution_count": 2,
   "metadata": {},
   "outputs": [
    {
     "data": {
      "text/html": [
       "<blockquote style=\"white-space: pre\"><strong>Innostunut sonni</strong></blockquote><ul><li>Contains: S</li><li>Lacks: ADFGHJKLÖÄ</li><li>Has extra letters: INOTU</li></ul>"
      ],
      "text/plain": [
       "<IPython.core.display.HTML object>"
      ]
     },
     "execution_count": 2,
     "metadata": {},
     "output_type": "execute_result"
    }
   ],
   "source": [
    "%check Innostunut sonni"
   ]
  },
  {
   "cell_type": "code",
   "execution_count": 3,
   "metadata": {},
   "outputs": [
    {
     "data": {
      "text/html": [
       "<p style=\"color: var(--jp-error-color0)\">Not a palindrome:  A non-palindrome on a single line</p><ul><li>Contains: ASDGL</li><li>Lacks: FHJKÖÄ</li><li>Has extra letters: EIMNOPR</li></ul>"
      ],
      "text/plain": [
       "<IPython.core.display.HTML object>"
      ]
     },
     "execution_count": 3,
     "metadata": {},
     "output_type": "execute_result"
    }
   ],
   "source": [
    "%check  A non-palindrome on a single line"
   ]
  },
  {
   "cell_type": "code",
   "execution_count": 4,
   "metadata": {},
   "outputs": [
    {
     "data": {
      "text/html": [
       "<p style=\"color: var(--jp-error-color0)\">Not a palindrome: A non-palindrome\n",
       "on multiple lines</p><ul><li>Contains: ASDL</li><li>Lacks: FGHJKÖÄ</li><li>Has extra letters: EIMNOPRTU</li></ul>"
      ],
      "text/plain": [
       "<IPython.core.display.HTML object>"
      ]
     },
     "execution_count": 4,
     "metadata": {},
     "output_type": "execute_result"
    }
   ],
   "source": [
    "%%check\n",
    "\n",
    "A non-palindrome\n",
    "on multiple lines"
   ]
  },
  {
   "cell_type": "code",
   "execution_count": 5,
   "metadata": {},
   "outputs": [
    {
     "data": {
      "text/html": [
       "<p style=\"color: var(--jp-error-color0)\">Not a palindrome:  Ei-palindromi ja käännös  </p><ul><li>Contains: ASDJKLÖÄ</li><li>Lacks: FGH</li><li>Has extra letters: EIMNOPR</li></ul>"
      ],
      "text/plain": [
       "<IPython.core.display.HTML object>"
      ]
     },
     "execution_count": 5,
     "metadata": {},
     "output_type": "execute_result"
    }
   ],
   "source": [
    "%check  Ei-palindromi ja käännös  # A non-palindrome with a translation"
   ]
  },
  {
   "cell_type": "code",
   "execution_count": 6,
   "metadata": {},
   "outputs": [
    {
     "data": {
      "text/html": [
       "<p style=\"color: var(--jp-error-color0)\">Not a palindrome: Ei-palindromi usealla rivillä\n",
       "ja sen käännös.</p><ul><li>Contains: ASDJKLÖÄ</li><li>Lacks: FGH</li><li>Has extra letters: EIMNOPRUV</li></ul>"
      ],
      "text/plain": [
       "<IPython.core.display.HTML object>"
      ]
     },
     "execution_count": 6,
     "metadata": {},
     "output_type": "execute_result"
    }
   ],
   "source": [
    "%%check\n",
    "\n",
    "Ei-palindromi usealla rivillä\n",
    "ja sen käännös.\n",
    "\n",
    "# A non-palindrome on multiple lines\n",
    "# and its translation."
   ]
  },
  {
   "cell_type": "code",
   "execution_count": 7,
   "metadata": {},
   "outputs": [
    {
     "data": {
      "text/html": [
       "<blockquote style=\"white-space: pre\"><strong>\"Allasi on ase\",\n",
       "sanoi Salla.</strong></blockquote><ul><li>Contains: ASL</li><li>Lacks: DFGHJKÖÄ</li><li>Has extra letters: EINO</li></ul>"
      ],
      "text/plain": [
       "<IPython.core.display.HTML object>"
      ]
     },
     "execution_count": 7,
     "metadata": {},
     "output_type": "execute_result"
    }
   ],
   "source": [
    "%%check\n",
    "\n",
    "\"Allasi on ase\",\n",
    "sanoi Salla.\n",
    "\n",
    "# \"There's a weapon underneath you\",\n",
    "# said Sally."
   ]
  },
  {
   "cell_type": "markdown",
   "metadata": {},
   "source": [
    "Ok, our verifier seems to work. Let's get to work!"
   ]
  },
  {
   "cell_type": "markdown",
   "metadata": {},
   "source": [
    "---\n",
    "\n",
    "## Allow no repeats\n",
    "\n",
    "Since _\"Aja! Aja! Aja! Aja! Aja!\"_ is a little stupid for a palindrome,\n",
    "let's say that no word (or sequence of words) can appear twice in a row. We can still quite easily play with the \"easy\" letters:"
   ]
  },
  {
   "cell_type": "code",
   "execution_count": 8,
   "metadata": {},
   "outputs": [
    {
     "data": {
      "text/html": [
       "<blockquote style=\"white-space: pre\"><strong> Äläkä, jäkälä!  </strong></blockquote><ul><li>Contains: JKLÄ</li><li>Lacks: ASDFGHÖ</li></ul>"
      ],
      "text/plain": [
       "<IPython.core.display.HTML object>"
      ]
     },
     "execution_count": 8,
     "metadata": {},
     "output_type": "execute_result"
    }
   ],
   "source": [
    "%check  Äläkä, jäkälä!  # And don't, you lichen!"
   ]
  },
  {
   "cell_type": "markdown",
   "metadata": {},
   "source": [
    "A good technique at this point is to expand the palindrome at the middle:"
   ]
  },
  {
   "cell_type": "code",
   "execution_count": 9,
   "metadata": {},
   "outputs": [
    {
     "data": {
      "text/html": [
       "<blockquote style=\"white-space: pre\"><strong> Äläkä jaa, jäkälä!  </strong></blockquote><ul><li>Contains: AJKLÄ</li><li>Lacks: SDFGHÖ</li></ul>"
      ],
      "text/plain": [
       "<IPython.core.display.HTML object>"
      ]
     },
     "execution_count": 9,
     "metadata": {},
     "output_type": "execute_result"
    }
   ],
   "source": [
    "%check  Äläkä jaa, jäkälä!  # And don't share, you lichen!"
   ]
  },
  {
   "cell_type": "code",
   "execution_count": 10,
   "metadata": {},
   "outputs": [
    {
     "data": {
      "text/html": [
       "<blockquote style=\"white-space: pre\"><strong> Äläkä jaa saajaa! Saa jäkälä!  </strong></blockquote><ul><li>Contains: ASJKLÄ</li><li>Lacks: DFGHÖ</li></ul>"
      ],
      "text/plain": [
       "<IPython.core.display.HTML object>"
      ]
     },
     "execution_count": 10,
     "metadata": {},
     "output_type": "execute_result"
    }
   ],
   "source": [
    "%check  Äläkä jaa saajaa! Saa jäkälä!  # And don't share the receiver! Receive a lichen!"
   ]
  },
  {
   "cell_type": "code",
   "execution_count": 11,
   "metadata": {},
   "outputs": [
    {
     "data": {
      "text/html": [
       "<blockquote style=\"white-space: pre\"><strong> Äläkä jaa saajalla. Jaa, saa jäkälä!  </strong></blockquote><ul><li>Contains: ASJKLÄ</li><li>Lacks: DFGHÖ</li></ul>"
      ],
      "text/plain": [
       "<IPython.core.display.HTML object>"
      ]
     },
     "execution_count": 11,
     "metadata": {},
     "output_type": "execute_result"
    }
   ],
   "source": [
    "%check  Äläkä jaa saajalla. Jaa, saa jäkälä!  # And don't divide by the receiver! Share, receive a lichen!"
   ]
  },
  {
   "cell_type": "code",
   "execution_count": 12,
   "metadata": {},
   "outputs": [
    {
     "data": {
      "text/html": [
       "<blockquote style=\"white-space: pre\"><strong> Äläkä jaa saajalla. Kakalla jaa, saa jäkälä!  </strong></blockquote><ul><li>Contains: ASJKLÄ</li><li>Lacks: DFGHÖ</li></ul>"
      ],
      "text/plain": [
       "<IPython.core.display.HTML object>"
      ]
     },
     "execution_count": 12,
     "metadata": {},
     "output_type": "execute_result"
    }
   ],
   "source": [
    "%check  Äläkä jaa saajalla. Kakalla jaa, saa jäkälä!  # And don't divide by the receiver! Divide by poop, receive a lichen!"
   ]
  },
  {
   "cell_type": "markdown",
   "metadata": {},
   "source": [
    "With more work, we could probably find different palindromes which don't fail to make sense this miserably."
   ]
  },
  {
   "cell_type": "markdown",
   "metadata": {},
   "source": [
    "---\n",
    "\n",
    "## Use every key on the ASDF row\n",
    "\n",
    "To make the challenge really interesting, I would adjust Jimmie's idea a bit: use each of the letters on the middle row of the keyboard at least once.\n",
    "\n",
    "My usual methods for creating palindromes involve using either\n",
    "- just the brain,\n",
    "- the brain, pen, and paper,\n",
    "- the brain, keyboard, and screen, or\n",
    "- the brain, keyborad, screen, and a queryable electronic Finnish dictionary.\n",
    "\n",
    "For this challenge, let's extend that toolset with the Python language and Internet resources.\n",
    "\n",
    "The [Voikko](https://voikko.puimula.org/) library provides spell checking and hyphenation for LibreOffice and other Open Source word processors.\n",
    "Surprisingly, the [Voikko Python package](https://pypi.org/project/voikko/) also includes a word inflection tool and a 46000-word dictionary.\n",
    "So let's install it and create a big list of inflected words:"
   ]
  },
  {
   "cell_type": "code",
   "execution_count": 13,
   "metadata": {},
   "outputs": [],
   "source": [
    "!pip install -q voikko"
   ]
  },
  {
   "cell_type": "code",
   "execution_count": 14,
   "metadata": {},
   "outputs": [
    {
     "data": {
      "text/plain": [
       "46548"
      ]
     },
     "execution_count": 14,
     "metadata": {},
     "output_type": "execute_result"
    }
   ],
   "source": [
    "from pathlib import Path\n",
    "import pickle\n",
    "from voikko.inflect_word import generate_forms, WORD_CLASSES\n",
    "len(WORD_CLASSES)"
   ]
  },
  {
   "cell_type": "code",
   "execution_count": 15,
   "metadata": {},
   "outputs": [
    {
     "data": {
      "text/plain": [
       "1085562"
      ]
     },
     "execution_count": 15,
     "metadata": {},
     "output_type": "execute_result"
    }
   ],
   "source": [
    "WORD_FORM_CACHE = Path('word-forms.pickle')\n",
    "if WORD_FORM_CACHE.is_file():\n",
    "    with WORD_FORM_CACHE.open('rb') as cache:\n",
    "        word_form_lists = pickle.load(cache)\n",
    "else:\n",
    "    word_form_lists = [generate_forms(word_class) for word_class in WORD_CLASSES]\n",
    "    with WORD_FORM_CACHE.open('wb') as cache:\n",
    "        pickle.dump(word_form_lists, cache)\n",
    "\n",
    "all_forms = [form_variant.lower()\n",
    "             for word_interpretation_form_list in word_form_lists\n",
    "             for word_forms in word_interpretation_form_list\n",
    "             for form_variants in word_forms.values()\n",
    "             for form_variant in form_variants]\n",
    "\n",
    "len(all_forms)"
   ]
  },
  {
   "cell_type": "markdown",
   "metadata": {},
   "source": [
    "So we conveniently got a list of million Finnish words!\n",
    "Let's then filter that to only words which contain letters from the ASDF row of the keyboard:"
   ]
  },
  {
   "cell_type": "code",
   "execution_count": 16,
   "metadata": {},
   "outputs": [
    {
     "data": {
      "text/plain": [
       "441"
      ]
     },
     "execution_count": 16,
     "metadata": {},
     "output_type": "execute_result"
    }
   ],
   "source": [
    "def filter_asdf(words):\n",
    "    return {word for word in words\n",
    "            if not set(word.lower()).difference(ALPHABET)}\n",
    "\n",
    "asdf_words = filter_asdf(all_forms)\n",
    "len(asdf_words)"
   ]
  },
  {
   "cell_type": "markdown",
   "metadata": {},
   "source": [
    "Only 441 words! That gives us very little material for creating palindromes!\n",
    "Let's take a look at the actual words:"
   ]
  },
  {
   "cell_type": "code",
   "execution_count": 17,
   "metadata": {},
   "outputs": [
    {
     "name": "stdout",
     "output_type": "stream",
     "text": [
      "aada aadaa aadalla aadassa ada adaa adalla adassa ahdas ajaa ajaja ajajaa ajajalla ajajassa ajalla ajassa akaa akaalla\n",
      "akaassa akalla akassa akka akkaa akkala akkalaa akkalalla akkalassa ala alaa alalla alaska alaskaa alaskalla alaskassa\n",
      "alassa alf alfa alfaa alfalfa alfalfaa alfalfalla alfalfassa alfalla alfassa alkaa alkaja alkajaa alkajalla alkajassa\n",
      "allah allakalla allakassa allakka allakkaa allas aska askaa askalla askassa aslak dada dadaa dadalla dadassa dahl dallas\n",
      "dödö dödöjä dödöllä dödössä dödöä dösä dösällä dösässä dösää falk flada fladaa fladalla fladassa flagg flash föglö\n",
      "föglöllä föglössä gaala gaalaa gaalalla gaalassa göös haag haaga haagaa haagalla haagassa haahka haahkaa haahkalla\n",
      "haahkassa haahla haahlaa haahlalla haahlassa haalla haaska haaskaa haaskalla haaskassa haassa hahla hahlaa hahlalla\n",
      "hahlassa haka hakaa hakala hakalaa hakalalla hakalassa hakkaaja hakkaajaa hakkaajalla hakkaajassa hal haljakalla\n",
      "haljakassa haljakka haljakkaa haljas hall halla hallaa hallalla hallassa hädällä hädässä häkkä häkkää häkköjä häkä\n",
      "häkällä häkässä häkää häläjää hässäkkä hässäkkää hässäkköjä hässäkällä hässäkässä hää häädöllä häädössä häällä häässä\n",
      "höhlä höhlällä höhlässä höhlää hölkkä hölkkää hölkkääjä hölkkääjällä hölkkääjässä hölkkääjää hölkällä hölkässä höllä\n",
      "höllällä höllässä höllää hölö hölöjä hölöllä hölössä hölöä höskä höskällä höskässä höskää jaala jaalaa jaalalla jaalassa\n",
      "jaffa jaffaa jaffalla jaffassa jaja jajaa jajalla jajassa jakaa jakaja jakajaa jakajalla jakajassa jaksaa jalalla jalas\n",
      "jalassa jalka jalkaa jaska jaskaa jaskalla jaskassa jäkälä jäkälällä jäkälässä jäkälää jää jäädä jäällä jäässä kaahaaja\n",
      "kaahaajaa kaahaajalla kaahaajassa kafka kafkaa kafkalla kafkassa kahajaa kahakalla kahakassa kahakka kahakkaa kahlaaja\n",
      "kahlaajaa kahlaajalla kahlaajassa kakalla kakassa kakka kakkaa kala kalaa kalalla kalassa kalja kaljaa kaljalla kaljassa\n",
      "kalkaalla kalkaassa kalkas kalla kallaa kallalla kallassa kalsa kalsaa kalsalla kalsassa kasa kasaa kasakalla kasakassa\n",
      "kasakka kasakkaa kasalla kasassa kaskaalla kaskaassa kaskas kassa kassaa kassalla kassassa klaas kähäjää kääkkä kääkkää\n",
      "kääkällä kääkässä köhä köhäjää köhällä köhässä köhää laaja laajaa laajalla laajassa laaka laakaa lada ladaa ladalla\n",
      "ladassa lafka lafkaa lafkalla lafkassa lahja lahjaa lahjakas lahjakkaalla lahjakkaassa lahjalla lahjassa lakalla lakassa\n",
      "lakka lakkaa lähdöllä lähdössä läjä läjällä läjässä läjää löllö löllöjä löllöllä löllössä löllöä saada saaga saagaa\n",
      "saagalla saagassa saaja saajaa saajalla saajassa safka safkaa safkalla safkassa saga sagaa sagalla sagassa saha sahaa\n",
      "sahaaja sahaajaa sahaajalla sahaajassa sahala sahalaa sahalalla sahalassa sahalla sahassa sakalla sakassa sakka sakkaa\n",
      "saksa saksaa saksalla saksassa sala salaa salakalla salakassa salakka salakkaa salalla salassa salla sallaa sallalla\n",
      "sallassa salsa salsaa salsalla salsassa skaala skaalaa skaalalla skaalassa sähkö sähköjä sähköllä sähkössä sähköä\n",
      "sählääjä sählääjällä sählääjässä sählääjää sähäjää sähäkkä sähäkkää sähäkköjä sähäkällä sähäkässä säkä säkällä säkässä\n",
      "säkää sälä sälällä sälässä sälää sälö sälöjä sälöllä sälössä sälöä sää säädöllä säädös säädössä säällä säässä sökö\n",
      "sököjä sököllä sökössä sököä sössö sössöjä sössöllä sössössä sössöä ähäjää ällä ällällä ällässä ällää ällö ällöjä\n",
      "ällöllä ällössä ällöä äläjää äläkkä äläkkää äläkköjä äläkällä äläkässä ässä ässällä ässässä ässää öllölä öllölällä\n",
      "öllölässä öllölää\n"
     ]
    }
   ],
   "source": [
    "from textwrap import wrap\n",
    "\n",
    "def list_words(words):\n",
    "    for line in wrap(' '.join(sorted(words)), 120):\n",
    "        print(line)\n",
    "        \n",
    "list_words(asdf_words)"
   ]
  },
  {
   "cell_type": "markdown",
   "metadata": {},
   "source": [
    "To make our work easier, we can still trim down the list.\n",
    "There are letter combinations which obviously don't work when reversed,\n",
    "especially within this limited set of words.\n",
    "\n",
    "Take a look e.g. at the word \"SÄHKÖ\" and its inflections.\n",
    "The reversed \"ÖKHÄS\" looks challenging. We must consider the five possible splitting points:\n",
    "- \"ÖKHÄS\": there are no words beginning with \"ÖKH\" in Finnish\n",
    "- \"Ö | KHÄS\": also, no words beginning with \"KH\"\n",
    "- \"ÖK | HÄS\": no words ending with \"ÖK\"\n",
    "- \"ÖKH | ÄS\": no words ending with \"KH\"\n",
    "- \"ÖKHÄ | S\": no words ending with \"KHÄ\" (we could use \"HÄ?\", but then we're back at the ending \"ÖK\")\n",
    "\n",
    "So we can safely say that \"SÄHKÖ\" and its inflections are not usable for a palindrome.\n",
    "With similar reasoning, we can reject a bunch of other words as well:"
   ]
  },
  {
   "cell_type": "code",
   "execution_count": 18,
   "metadata": {},
   "outputs": [],
   "source": [
    "def remove_unusable_words(words):\n",
    "    return {\n",
    "        word for word in words\n",
    "        if not word.startswith(\n",
    "            ('ahdas', 'alf', 'alka',\n",
    "             'dahl',\n",
    "             'falk', 'flada', 'flagg', 'flash', 'föglö',\n",
    "             'gaalalla', 'gaalassa', 'göös',\n",
    "             'haahka', 'haahla', 'haaskaa', 'haaskalla', 'hahla', 'haljas', 'hädä', 'häkköjä', 'hässäkk', 'häädö', 'hölkkä',\n",
    "             'jaffaa', 'jaffalla', 'jaffassa',\n",
    "             'kafka', 'kahlaaja', 'kaskaa', 'klaas', 'lafka', 'lahjaa', 'lahjakk', 'lahjalla', 'lahjassa', 'lähdö',\n",
    "             'safka', 'skaala', 'sählääjä', 'säädö', 'sähkö'))}\n",
    "\n",
    "asdf_good_words = remove_unusable_words(asdf_words)"
   ]
  },
  {
   "cell_type": "markdown",
   "metadata": {},
   "source": [
    "There are also some obvious words missing from this list (worth a bug report to the Voikko Python library?):"
   ]
  },
  {
   "cell_type": "code",
   "execution_count": 19,
   "metadata": {},
   "outputs": [
    {
     "name": "stdout",
     "output_type": "stream",
     "text": [
      "aada aadaa aadalla aadassa ada adaa adalla adassa aja ajaa ajaja ajajaa ajajalla ajajassa ajalla ajassa akaa akaalla\n",
      "akaassa akalla akassa akka akkaa akkala akkalaa akkalalla akkalassa ala alaa alalla alaska alaskaa alaskalla alaskassa\n",
      "alassa allah allakalla allakassa allakka allakkaa allas aska askaa askalla askassa aslak dada dadaa dadalla dadassa\n",
      "dallas dödö dödöjä dödöllä dödössä dödöä dösä dösällä dösässä dösää gaala gaalaa haag haaga haagaa haagalla haagassa\n",
      "haalla haaska haaskassa haassa haka hakaa hakala hakalaa hakalalla hakalassa hakkaaja hakkaajaa hakkaajalla hakkaajassa\n",
      "hal haljakalla haljakassa haljakka haljakkaa hall halla hallaa hallalla hallassa häkkä häkkää häkä häkällä häkässä häkää\n",
      "häläjää hässäkällä hässäkässä hää häällä häässä höhlä höhlällä höhlässä höhlää hölkällä hölkässä höllä höllällä höllässä\n",
      "höllää hölö hölöjä hölöllä hölössä hölöä höskä höskällä höskässä höskää jaa jaala jaalaa jaalalla jaalassa jaffa jaja\n",
      "jajaa jajalla jajassa jakaa jakaja jakajaa jakajalla jakajassa jaksaa jalalla jalas jalassa jalka jalkaa jaska jaskaa\n",
      "jaskalla jaskassa jäkälä jäkälällä jäkälässä jäkälää jää jäädä jäällä jäässä kaahaaja kaahaajaa kaahaajalla kaahaajassa\n",
      "kahajaa kahakalla kahakassa kahakka kahakkaa kaj kakalla kakassa kakka kakkaa kala kalaa kalalla kalassa kalja kaljaa\n",
      "kaljalla kaljassa kalkaalla kalkaassa kalkas kalla kallaa kallalla kallassa kalsa kalsaa kalsalla kalsassa kasa kasaa\n",
      "kasakalla kasakassa kasakka kasakkaa kasalla kasassa kaskas kassa kassaa kassalla kassassa kähäjää kääkkä kääkkää\n",
      "kääkällä kääkässä köhä köhäjää köhällä köhässä köhää laaja laajaa laajalla laajassa laaka laakaa lada ladaa ladalla\n",
      "ladassa lagaa lagaaja lahja lahjakas lakalla lakassa lakka lakkaa läjä läjällä läjässä läjää löllö löllöjä löllöllä\n",
      "löllössä löllöä saa saada saaga saagaa saagalla saagassa saaja saajaa saajalla saajassa saga sagaa sagalla sagassa saha\n",
      "sahaa sahaaja sahaajaa sahaajalla sahaajassa sahala sahalaa sahalalla sahalassa sahalla sahassa sakalla sakassa sakka\n",
      "sakkaa saksa saksaa saksalla saksassa sala salaa salakalla salakassa salakka salakkaa salalla salassa salla sallaa\n",
      "sallalla sallassa salsa salsaa salsalla salsassa saska sähäjää sähäkkä sähäkkää sähäkköjä sähäkällä sähäkässä säkä\n",
      "säkällä säkässä säkää sälä sälällä sälässä sälää sälö sälöjä sälöllä sälössä sälöä sää säällä säässä sökö sököjä sököllä\n",
      "sökössä sököä sössö sössöjä sössöllä sössössä sössöä ähäjää ällä ällällä ällässä ällää ällö ällöjä ällöllä ällössä ällöä\n",
      "äläjää äläkkä äläkkää äläkköjä äläkällä äläkässä ässä ässällä ässässä ässää öllölä öllölällä öllölässä öllölää\n"
     ]
    }
   ],
   "source": [
    "asdf_good_words.update({'lagaa', 'lagaaja', 'kaj', 'jaa', 'saa', 'aja', 'saska'})\n",
    "\n",
    "list_words(sorted(asdf_good_words))"
   ]
  },
  {
   "cell_type": "markdown",
   "metadata": {},
   "source": [
    "To double check for other omissions, let's compare to a dictionary of Finnish words from [Kotus](http://kaino.kotus.fi/sanat/nykysuomi/):"
   ]
  },
  {
   "cell_type": "code",
   "execution_count": 20,
   "metadata": {},
   "outputs": [
    {
     "data": {
      "text/plain": [
       "107"
      ]
     },
     "execution_count": 20,
     "metadata": {},
     "output_type": "execute_result"
    }
   ],
   "source": [
    "KOTUS_SANALISTA_URL = 'http://kaino.kotus.fi/sanat/nykysuomi/kotus-sanalista-v1.zip'\n",
    "KOTUS_SANALISTA_XML = 'kotus-sanalista_v1/kotus-sanalista_v1.xml'\n",
    "\n",
    "# Cache the download so we only do it once even if we run this notebook multiple times\n",
    "!pip install -q --user requests-cache\n",
    "import requests_cache\n",
    "requests_cache.install_cache('cache')\n",
    "\n",
    "import requests\n",
    "import io\n",
    "from zipfile import ZipFile\n",
    "\n",
    "zip_content = requests.get(KOTUS_SANALISTA_URL).content\n",
    "with ZipFile(io.BytesIO(zip_content)) as kotus_zip:\n",
    "    with kotus_zip.open(KOTUS_SANALISTA_XML) as kotus_xml:\n",
    "        kotus_asdf_words = remove_unusable_words(\n",
    "            filter_asdf({l[7:].decode('utf-8').split('<', 1)[0]\n",
    "                        for l in kotus_xml if l.startswith(b'<st><s>')}))\n",
    "len(kotus_asdf_words)"
   ]
  },
  {
   "cell_type": "code",
   "execution_count": 21,
   "metadata": {},
   "outputs": [
    {
     "name": "stdout",
     "output_type": "stream",
     "text": [
      "ah ahaa alas alhaalla alla ha haa hah hajalla hä häh häälahja hössäkkä ja jaaha jaha jahka jöö kajal kaks kalkkaa kallas\n",
      "kas käkö kökkö köö laakajäkälä sa saakka sadas sä ähkää älkää älä\n"
     ]
    }
   ],
   "source": [
    "list_words(kotus_asdf_words.difference(asdf_good_words))"
   ]
  },
  {
   "cell_type": "markdown",
   "metadata": {},
   "source": [
    "Let's add some of those to the Voikko set of words:"
   ]
  },
  {
   "cell_type": "code",
   "execution_count": 22,
   "metadata": {},
   "outputs": [
    {
     "data": {
      "text/plain": [
       "378"
      ]
     },
     "execution_count": 22,
     "metadata": {},
     "output_type": "execute_result"
    }
   ],
   "source": [
    "asdf_good_words.update({'ah', 'ahaa', 'alas', 'alla',\n",
    "                        'dj',\n",
    "                        'faksaa', 'faksaaja',\n",
    "                        'ha', 'haa', 'hah', 'hajalla', 'hä', 'häh', 'hössäkkä',\n",
    "                        'ja', 'jaaha', 'jaha', 'jöö', 'jööllä', 'jöössä',\n",
    "                        'kajal', 'kaks', 'kallas', 'kas', 'käkö', 'kökkö',\n",
    "                        'laakajäkälä', 'saakka', 'sadas', 'sä',\n",
    "                        'ähkää', 'älkää', 'älä'})\n",
    "\n",
    "len(asdf_good_words)"
   ]
  },
  {
   "cell_type": "code",
   "execution_count": 23,
   "metadata": {},
   "outputs": [
    {
     "name": "stdout",
     "output_type": "stream",
     "text": [
      "aada aadaa aadalla aadassa ada adaa adalla adassa ah ahaa aja ajaa ajaja ajajaa ajajalla ajajassa ajalla ajassa akaa\n",
      "akaalla akaassa akalla akassa akka akkaa akkala akkalaa akkalalla akkalassa ala alaa alalla alas alaska alaskaa\n",
      "alaskalla alaskassa alassa alla allah allakalla allakassa allakka allakkaa allas aska askaa askalla askassa aslak dada\n",
      "dadaa dadalla dadassa dallas dj dödö dödöjä dödöllä dödössä dödöä dösä dösällä dösässä dösää faksaa faksaaja gaala\n",
      "gaalaa ha haa haag haaga haagaa haagalla haagassa haalla haaska haaskassa haassa hah hajalla haka hakaa hakala hakalaa\n",
      "hakalalla hakalassa hakkaaja hakkaajaa hakkaajalla hakkaajassa hal haljakalla haljakassa haljakka haljakkaa hall halla\n",
      "hallaa hallalla hallassa hä häh häkkä häkkää häkä häkällä häkässä häkää häläjää hässäkällä hässäkässä hää häällä häässä\n",
      "höhlä höhlällä höhlässä höhlää hölkällä hölkässä höllä höllällä höllässä höllää hölö hölöjä hölöllä hölössä hölöä höskä\n",
      "höskällä höskässä höskää hössäkkä ja jaa jaaha jaala jaalaa jaalalla jaalassa jaffa jaha jaja jajaa jajalla jajassa\n",
      "jakaa jakaja jakajaa jakajalla jakajassa jaksaa jalalla jalas jalassa jalka jalkaa jaska jaskaa jaskalla jaskassa jäkälä\n",
      "jäkälällä jäkälässä jäkälää jää jäädä jäällä jäässä jöö jööllä jöössä kaahaaja kaahaajaa kaahaajalla kaahaajassa kahajaa\n",
      "kahakalla kahakassa kahakka kahakkaa kaj kajal kakalla kakassa kakka kakkaa kaks kala kalaa kalalla kalassa kalja kaljaa\n",
      "kaljalla kaljassa kalkaalla kalkaassa kalkas kalla kallaa kallalla kallas kallassa kalsa kalsaa kalsalla kalsassa kas\n",
      "kasa kasaa kasakalla kasakassa kasakka kasakkaa kasalla kasassa kaskas kassa kassaa kassalla kassassa kähäjää käkö\n",
      "kääkkä kääkkää kääkällä kääkässä köhä köhäjää köhällä köhässä köhää kökkö laaja laajaa laajalla laajassa laaka laakaa\n",
      "laakajäkälä lada ladaa ladalla ladassa lagaa lagaaja lahja lahjakas lakalla lakassa lakka lakkaa läjä läjällä läjässä\n",
      "läjää löllö löllöjä löllöllä löllössä löllöä saa saada saaga saagaa saagalla saagassa saaja saajaa saajalla saajassa\n",
      "saakka sadas saga sagaa sagalla sagassa saha sahaa sahaaja sahaajaa sahaajalla sahaajassa sahala sahalaa sahalalla\n",
      "sahalassa sahalla sahassa sakalla sakassa sakka sakkaa saksa saksaa saksalla saksassa sala salaa salakalla salakassa\n",
      "salakka salakkaa salalla salassa salla sallaa sallalla sallassa salsa salsaa salsalla salsassa saska sä sähäjää sähäkkä\n",
      "sähäkkää sähäkköjä sähäkällä sähäkässä säkä säkällä säkässä säkää sälä sälällä sälässä sälää sälö sälöjä sälöllä sälössä\n",
      "sälöä sää säällä säässä sökö sököjä sököllä sökössä sököä sössö sössöjä sössöllä sössössä sössöä ähkää ähäjää älkää ällä\n",
      "ällällä ällässä ällää ällö ällöjä ällöllä ällössä ällöä älä äläjää äläkkä äläkkää äläkköjä äläkällä äläkässä ässä\n",
      "ässällä ässässä ässää öllölä öllölällä öllölässä öllölää\n"
     ]
    }
   ],
   "source": [
    "list_words(asdf_good_words)"
   ]
  },
  {
   "cell_type": "markdown",
   "metadata": {},
   "source": [
    "---\n",
    "\n",
    "## Word matcher\n",
    "\n",
    "We need one more tool: a quick way to search for matching words given some criteria."
   ]
  },
  {
   "cell_type": "code",
   "execution_count": 24,
   "metadata": {},
   "outputs": [],
   "source": [
    "from IPython.core.magic import register_line_magic\n",
    "\n",
    "@register_line_magic\n",
    "def where(callback):\n",
    "    list_words(w for w in asdf_good_words if eval(callback))"
   ]
  },
  {
   "cell_type": "markdown",
   "metadata": {},
   "source": [
    "We conveniently found a beginning and end for the palindrome, so let's start expanding in the middle.\n",
    "Let's try with **Äläkä jaksa ...aska Jäkälä** and see what we can find for the middle:"
   ]
  },
  {
   "cell_type": "code",
   "execution_count": 25,
   "metadata": {},
   "outputs": [
    {
     "name": "stdout",
     "output_type": "stream",
     "text": [
      "alaska aska haaska jaska saska\n"
     ]
    }
   ],
   "source": [
    "%where w.endswith('aska')"
   ]
  },
  {
   "cell_type": "code",
   "execution_count": 26,
   "metadata": {},
   "outputs": [
    {
     "data": {
      "text/html": [
       "<blockquote style=\"white-space: pre\"><strong> Äläkä jaksa, Jaska Jäkälä!  </strong></blockquote><ul><li>Contains: ASJKLÄ</li><li>Lacks: DFGHÖ</li></ul>"
      ],
      "text/plain": [
       "<IPython.core.display.HTML object>"
      ]
     },
     "execution_count": 26,
     "metadata": {},
     "output_type": "execute_result"
    }
   ],
   "source": [
    "%check  Äläkä jaksa, Jaska Jäkälä!  # And spare me, Jack the Lichen!"
   ]
  },
  {
   "cell_type": "code",
   "execution_count": 27,
   "metadata": {},
   "outputs": [
    {
     "name": "stdout",
     "output_type": "stream",
     "text": [
      "laaja laajaa laajalla laajassa laaka laakaa laakajäkälä lada ladaa ladalla ladassa lagaa lagaaja lahja lahjakas lakalla\n",
      "lakassa lakka lakkaa\n"
     ]
    }
   ],
   "source": [
    "%where w.startswith('la')  # äläkä jaksa, ... [AL]aska-jäkälä"
   ]
  },
  {
   "cell_type": "code",
   "execution_count": 28,
   "metadata": {},
   "outputs": [
    {
     "data": {
      "text/html": [
       "<blockquote style=\"white-space: pre\"><strong> Äläkä jaksa, laaja Alaska-jäkälä!  </strong></blockquote><ul><li>Contains: ASJKLÄ</li><li>Lacks: DFGHÖ</li></ul>"
      ],
      "text/plain": [
       "<IPython.core.display.HTML object>"
      ]
     },
     "execution_count": 28,
     "metadata": {},
     "output_type": "execute_result"
    }
   ],
   "source": [
    "%check  Äläkä jaksa, laaja Alaska-jäkälä!  # And spare me, broad Alaskan lichen!"
   ]
  },
  {
   "cell_type": "code",
   "execution_count": 29,
   "metadata": {},
   "outputs": [
    {
     "data": {
      "text/html": [
       "<blockquote style=\"white-space: pre\"><strong> Äläkä jaksa laajalla, ja Alaska-jäkälä!  </strong></blockquote><ul><li>Contains: ASJKLÄ</li><li>Lacks: DFGHÖ</li></ul>"
      ],
      "text/plain": [
       "<IPython.core.display.HTML object>"
      ]
     },
     "execution_count": 29,
     "metadata": {},
     "output_type": "execute_result"
    }
   ],
   "source": [
    "%check  Äläkä jaksa laajalla, ja Alaska-jäkälä!  # And spare me on a broad, and Alaskan lichen!"
   ]
  },
  {
   "cell_type": "markdown",
   "metadata": {},
   "source": [
    "---\n",
    "\n",
    "## The first complete one\n",
    "\n",
    "Using these tools, I explored for a while and came up with this one:"
   ]
  },
  {
   "cell_type": "code",
   "execution_count": 30,
   "metadata": {},
   "outputs": [
    {
     "data": {
      "text/html": [
       "<blockquote style=\"white-space: pre\"><strong>Hallas ällö dödöllä.\n",
       "Äläkä, Jaffa, jaa salaa!\n",
       "Gaala saa, Jaffa.\n",
       "Jäkälä ällö, dödölläs Allah.</strong></blockquote><ul><li>Contains: ASDFGHJKLÖÄ</li></ul>"
      ],
      "text/plain": [
       "<IPython.core.display.HTML object>"
      ]
     },
     "execution_count": 30,
     "metadata": {},
     "output_type": "execute_result"
    }
   ],
   "source": [
    "%%check\n",
    "\n",
    "Hallas ällö dödöllä.\n",
    "Äläkä, Jaffa, jaa salaa!\n",
    "Gaala saa, Jaffa.\n",
    "Jäkälä ällö, dödölläs Allah.\n",
    "\n",
    "# Your disgusting frost with deodorant.\n",
    "# And don't, Jaffa, share secretly!\n",
    "# Get a gala, Jaffa.\n",
    "# A disgusting lichen, Allah with your deodorant."
   ]
  },
  {
   "cell_type": "markdown",
   "metadata": {},
   "source": [
    "Let's see if we could get rid of the repetitions by putting F/G words in the middle."
   ]
  },
  {
   "cell_type": "code",
   "execution_count": 31,
   "metadata": {},
   "outputs": [
    {
     "name": "stdout",
     "output_type": "stream",
     "text": [
      "faksaa faksaaja gaala gaalaa haag haaga haagaa haagalla haagassa jaffa lagaa lagaaja saaga saagaa saagalla saagassa saga\n",
      "sagaa sagalla sagassa\n"
     ]
    }
   ],
   "source": [
    "%where 'f' in w or 'g' in w"
   ]
  },
  {
   "cell_type": "code",
   "execution_count": 32,
   "metadata": {},
   "outputs": [
    {
     "data": {
      "text/html": [
       "<blockquote style=\"white-space: pre\"><strong> ...Haaska, faksaa h...  </strong></blockquote><ul><li>Contains: ASFHK</li><li>Lacks: DGJLÖÄ</li></ul>"
      ],
      "text/plain": [
       "<IPython.core.display.HTML object>"
      ]
     },
     "execution_count": 32,
     "metadata": {},
     "output_type": "execute_result"
    }
   ],
   "source": [
    "%check  ...Haaska, faksaa h...  # ...Carcass, fax a h..."
   ]
  },
  {
   "cell_type": "code",
   "execution_count": 33,
   "metadata": {},
   "outputs": [
    {
     "name": "stdout",
     "output_type": "stream",
     "text": [
      "haag haaga haagaa haagalla haagassa\n"
     ]
    }
   ],
   "source": [
    "%where w.startswith('h') and 'g' in w"
   ]
  },
  {
   "cell_type": "code",
   "execution_count": 34,
   "metadata": {},
   "outputs": [
    {
     "data": {
      "text/html": [
       "<blockquote style=\"white-space: pre\"><strong> ...Saagaa, haaska, faksaa! Haagaa s...  </strong></blockquote><ul><li>Contains: ASFGHK</li><li>Lacks: DJLÖÄ</li></ul>"
      ],
      "text/plain": [
       "<IPython.core.display.HTML object>"
      ]
     },
     "execution_count": 34,
     "metadata": {},
     "output_type": "execute_result"
    }
   ],
   "source": [
    "%check  ...Saagaa, haaska, faksaa! Haagaa s...  # Carcass, fax a saga! District of Haaga s..."
   ]
  },
  {
   "cell_type": "markdown",
   "metadata": {},
   "source": [
    "---\n",
    "\n",
    "## Another helper: how many ASDF row letters does a palindrome use?\n",
    "\n",
    "This helper function will make it easier to filter down candidate words to those which have enough of the remaining required ASDF letters:"
   ]
  },
  {
   "cell_type": "code",
   "execution_count": 35,
   "metadata": {},
   "outputs": [],
   "source": [
    "def count_letters(letters, text):\n",
    "    return len(set(letters).intersection(text))"
   ]
  },
  {
   "cell_type": "markdown",
   "metadata": {},
   "source": [
    "And here's how to use it:"
   ]
  },
  {
   "cell_type": "code",
   "execution_count": 36,
   "metadata": {},
   "outputs": [
    {
     "name": "stdout",
     "output_type": "stream",
     "text": [
      "saajalla sahaajalla sähäjää sähäkköjä sähäkällä säkällä sälä sälällä sälässä sälää sälö sälöjä sälöllä sälössä sälöä\n",
      "säällä sököjä sököllä sökössä sököä sössöjä sössöllä sössössä sössöä\n"
     ]
    }
   ],
   "source": [
    "%where w.startswith('s') and count_letters('djlöä', w) >= 2"
   ]
  },
  {
   "cell_type": "code",
   "execution_count": 37,
   "metadata": {},
   "outputs": [
    {
     "data": {
      "text/html": [
       "<blockquote style=\"white-space: pre\"><strong> ...ä. Älä saagaa, haaska, faksaa! Haagaa, sälää...  </strong></blockquote><ul><li>Contains: ASFGHKLÄ</li><li>Lacks: DJÖ</li></ul>"
      ],
      "text/plain": [
       "<IPython.core.display.HTML object>"
      ]
     },
     "execution_count": 37,
     "metadata": {},
     "output_type": "execute_result"
    }
   ],
   "source": [
    "%check  ...ä. Älä saagaa, haaska, faksaa! Haagaa, sälää...  # ...ä. Carcass, don't fax a saga! District of Haaga, odds and ends..."
   ]
  },
  {
   "cell_type": "code",
   "execution_count": 38,
   "metadata": {},
   "outputs": [
    {
     "name": "stdout",
     "output_type": "stream",
     "text": [
      "dödöjä dödöä dösä dösää häläjää höhlä höhlää höllää hölöjä hölöä höskä höskää hössäkkä jäkälä jäkälää jää jäädä kähäjää\n",
      "köhä köhäjää köhää laakajäkälä läjä läjää löllöjä löllöä sähäjää sähäkköjä sälöjä sälöä sököjä sököä sössöjä sössöä\n",
      "ähäjää ällöjä ällöä äläjää äläkköjä öllölä öllölää\n"
     ]
    }
   ],
   "source": [
    "%where w.endswith('ä') and count_letters('djö', w) >= 1 and w[-3:-1] not in ['ll', 'ss']"
   ]
  },
  {
   "cell_type": "code",
   "execution_count": 39,
   "metadata": {},
   "outputs": [
    {
     "data": {
      "text/html": [
       "<blockquote style=\"white-space: pre\"><strong>...jäkälä. Älä saagaa, haaska, faksaa! Haagaa. sälä. Äläkä j...</strong></blockquote><ul><li>Contains: ASFGHJKLÄ</li><li>Lacks: DÖ</li></ul>"
      ],
      "text/plain": [
       "<IPython.core.display.HTML object>"
      ]
     },
     "execution_count": 39,
     "metadata": {},
     "output_type": "execute_result"
    }
   ],
   "source": [
    "%check ...jäkälä. Älä saagaa, haaska, faksaa! Haagaa. sälä. Äläkä j...\n",
    "\n",
    "# ...lichen. Carcass, don't fax a saga! District of Haaga, odds and ends. And don't j..."
   ]
  },
  {
   "cell_type": "code",
   "execution_count": 40,
   "metadata": {},
   "outputs": [
    {
     "name": "stdout",
     "output_type": "stream",
     "text": [
      "ja jaa jaaha jaala jaalaa jaalalla jaalassa jaffa jaha jaja jajaa jajalla jajassa jakaa jakaja jakajaa jakajalla\n",
      "jakajassa jaksaa jalalla jalas jalassa jalka jalkaa jaska jaskaa jaskalla jaskassa jäkälä jäkälällä jäkälässä jäkälää\n",
      "jää jäädä jäällä jäässä jöö jööllä jöössä\n"
     ]
    }
   ],
   "source": [
    "%where w.startswith('j')"
   ]
  },
  {
   "cell_type": "code",
   "execution_count": 41,
   "metadata": {},
   "outputs": [
    {
     "data": {
      "text/html": [
       "<blockquote style=\"white-space: pre\"><strong>...höllää! Älä saagaa, haaska, faksaa! Haagaa, sälää, ällö h...</strong></blockquote><ul><li>Contains: ASFGHKLÖÄ</li><li>Lacks: DJ</li></ul>"
      ],
      "text/plain": [
       "<IPython.core.display.HTML object>"
      ]
     },
     "execution_count": 41,
     "metadata": {},
     "output_type": "execute_result"
    }
   ],
   "source": [
    "%check ...höllää! Älä saagaa, haaska, faksaa! Haagaa, sälää, ällö h...\n",
    "\n",
    "# ...loosen! Carcass, don't fax a saga! District of Haaga, odds and ends, a disgusting h..."
   ]
  },
  {
   "cell_type": "code",
   "execution_count": 42,
   "metadata": {},
   "outputs": [
    {
     "name": "stdout",
     "output_type": "stream",
     "text": [
      "hajalla hakkaaja hakkaajaa hakkaajalla hakkaajassa haljakalla haljakassa haljakka haljakkaa häläjää hölöjä\n"
     ]
    }
   ],
   "source": [
    "%where w.startswith('h') and count_letters('dj', w) >= 1"
   ]
  },
  {
   "cell_type": "markdown",
   "metadata": {},
   "source": [
    "---\n",
    "\n",
    "## Almost there\n",
    "\n",
    "We're still lacking a `D`, but this is coming close already:"
   ]
  },
  {
   "cell_type": "code",
   "execution_count": 43,
   "metadata": {},
   "outputs": [
    {
     "data": {
      "text/html": [
       "<blockquote style=\"white-space: pre\"><strong>Aja, akka, höllää!\n",
       "Älä saagaa, haaska, faksaa!\n",
       "Haagaa, sälää, ällö hakkaaja.</strong></blockquote><ul><li>Contains: ASFGHJKLÖÄ</li><li>Lacks: D</li></ul>"
      ],
      "text/plain": [
       "<IPython.core.display.HTML object>"
      ]
     },
     "execution_count": 43,
     "metadata": {},
     "output_type": "execute_result"
    }
   ],
   "source": [
    "%%check\n",
    "\n",
    "Aja, akka, höllää!\n",
    "Älä saagaa, haaska, faksaa!\n",
    "Haagaa, sälää, ällö hakkaaja.\n",
    "\n",
    "# Drive, woman, loosen!\n",
    "# Carcass, don't fax a saga!\n",
    "# District of Haaga, odds and ends, the disgusting beater."
   ]
  },
  {
   "cell_type": "code",
   "execution_count": 44,
   "metadata": {},
   "outputs": [
    {
     "name": "stdout",
     "output_type": "stream",
     "text": [
      "aada aadaa aadalla aadassa ada adaa adalla adassa dada dadaa dadalla dadassa dallas dj dödö dödöjä dödöllä dödössä dödöä\n",
      "dösä dösällä dösässä dösää jäädä lada ladaa ladalla ladassa saada sadas\n"
     ]
    }
   ],
   "source": [
    "%where 'd' in w"
   ]
  },
  {
   "cell_type": "code",
   "execution_count": 45,
   "metadata": {},
   "outputs": [
    {
     "data": {
      "text/html": [
       "<blockquote style=\"white-space: pre\"><strong>...Ladaa aja, akka, höllää! Älä saagaa, haaska, faksaa! Haagaa, sälää, ällö hakkaaja-Aada l...</strong></blockquote><ul><li>Contains: ASDFGHJKLÖÄ</li></ul>"
      ],
      "text/plain": [
       "<IPython.core.display.HTML object>"
      ]
     },
     "execution_count": 45,
     "metadata": {},
     "output_type": "execute_result"
    }
   ],
   "source": [
    "%check ...Ladaa aja, akka, höllää! Älä saagaa, haaska, faksaa! Haagaa, sälää, ällö hakkaaja-Aada l...\n",
    "\n",
    "# ...Drive a Lada, woman, loosen! Carcass, don't fax a saga! District of Haaga, odds and ends, the disgusting beater Ada l..."
   ]
  },
  {
   "cell_type": "code",
   "execution_count": 46,
   "metadata": {},
   "outputs": [
    {
     "name": "stdout",
     "output_type": "stream",
     "text": [
      "laaja laajaa laajalla laajassa laaka laakaa laakajäkälä lada ladaa ladalla ladassa lagaa lagaaja lahja lahjakas lakalla\n",
      "lakassa lakka lakkaa läjä läjällä läjässä läjää löllö löllöjä löllöllä löllössä löllöä\n"
     ]
    }
   ],
   "source": [
    "%where w.startswith('l')"
   ]
  },
  {
   "cell_type": "markdown",
   "metadata": {},
   "source": [
    "---\n",
    "\n",
    "## Two additional solutions\n",
    "\n",
    "And through this process, we arrive at two candidates for an ASDFGHJKLÖÄ palindrome with actual Finnish words and the faint smell of a possibility of some logic:"
   ]
  },
  {
   "cell_type": "code",
   "execution_count": 47,
   "metadata": {},
   "outputs": [
    {
     "data": {
      "text/html": [
       "<blockquote style=\"white-space: pre\"><strong>Ajaa Ladaa.\n",
       "Aja, akka, höllää!\n",
       "Älä saagaa, haaska, faksaa!\n",
       "Haagaa, sälää, ällö hakkaaja-Aada laaja.</strong></blockquote><ul><li>Contains: ASDFGHJKLÖÄ</li></ul>"
      ],
      "text/plain": [
       "<IPython.core.display.HTML object>"
      ]
     },
     "execution_count": 47,
     "metadata": {},
     "output_type": "execute_result"
    }
   ],
   "source": [
    "%%check\n",
    "\n",
    "Ajaa Ladaa.\n",
    "Aja, akka, höllää!\n",
    "Älä saagaa, haaska, faksaa!\n",
    "Haagaa, sälää, ällö hakkaaja-Aada laaja.\n",
    "\n",
    "# Drives a Lada.\n",
    "# Woman, drive, loosen!\n",
    "# Carcass, don't fax a saga!\n",
    "# District of Haaga, odds and ends, the disgusting and broad beater Ada."
   ]
  },
  {
   "cell_type": "code",
   "execution_count": 48,
   "metadata": {},
   "outputs": [
    {
     "data": {
      "text/html": [
       "<blockquote style=\"white-space: pre\"><strong>Aada, Ladaa aja, akka, höllää!\n",
       "Älä saagaa, haaska, faksaa!\n",
       "\"Haagaa, sälää!\", ällö hakkaaja-Aada Ladaa.</strong></blockquote><ul><li>Contains: ASDFGHJKLÖÄ</li></ul>"
      ],
      "text/plain": [
       "<IPython.core.display.HTML object>"
      ]
     },
     "execution_count": 48,
     "metadata": {},
     "output_type": "execute_result"
    }
   ],
   "source": [
    "%%check\n",
    "\n",
    "Aada, Ladaa aja, akka, höllää!\n",
    "Älä saagaa, haaska, faksaa!\n",
    "\"Haagaa, sälää!\", ällö hakkaaja-Aada Ladaa.\n",
    "\n",
    "# Ada, drive a Lada, woman, loosen!\n",
    "# Carcass, don't fax a saga!\n",
    "# \"District of Haaga, odds and ends!\", the disgusting beater Ada to the Lada."
   ]
  }
 ],
 "metadata": {
  "kernelspec": {
   "display_name": "Python 3",
   "language": "python",
   "name": "python3"
  },
  "language_info": {
   "codemirror_mode": {
    "name": "ipython",
    "version": 3
   },
   "file_extension": ".py",
   "mimetype": "text/x-python",
   "name": "python",
   "nbconvert_exporter": "python",
   "pygments_lexer": "ipython3",
   "version": "3.7.4"
  }
 },
 "nbformat": 4,
 "nbformat_minor": 2
}
